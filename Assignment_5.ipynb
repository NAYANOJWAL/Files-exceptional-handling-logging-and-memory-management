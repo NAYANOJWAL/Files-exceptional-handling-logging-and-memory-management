{
  "nbformat": 4,
  "nbformat_minor": 0,
  "metadata": {
    "colab": {
      "provenance": []
    },
    "kernelspec": {
      "name": "python3",
      "display_name": "Python 3"
    },
    "language_info": {
      "name": "python"
    }
  },
  "cells": [
    {
      "cell_type": "markdown",
      "source": [
        "# **THEORETICAL QUESTIONS**\n",
        "\n",
        "\n",
        "### **1. What is the difference between interpreted and compiled languages?**\n",
        "  - Interpreted languages (like Python) execute line by line, while compiled languages (like C++) convert code into machine language before execution.\n",
        "\n",
        "\n",
        "### **2. What is exception handling in Python?**\n",
        "  - Exception handling manages runtime errors using try, except, finally, etc.\n",
        " - **Example:**\n",
        "try: x = 1/0  \n",
        "except ZeroDivisionError: print(\"Cannot divide by zero\")\n",
        "\n",
        "\n",
        "### **3. What is the purpose of the finally block?**\n",
        " - The finally block always executes whether an exception occurs or not, typically used to clean up resources.\n",
        "\n",
        "\n",
        "### **4. What is logging in Python?**\n",
        " - Logging records runtime information, errors, or debug messages to the console or file.\n",
        "\n",
        "\n",
        "### **5. What is the significance of __del__ method in python?**\n",
        " - __del__() is a destructor called when an object is garbage collected to perform cleanup.\n",
        "\n",
        "\n",
        "### **6. What is the difference between import and from ... import in python?**\n",
        " - **import:** imports the whole module;\n",
        " - **from:** import imports specific parts.\n",
        " - **Example:**\n",
        "import math; math.sqrt(4)  \n",
        "from math import sqrt; sqrt(4)\n",
        "\n",
        "\n",
        "### **7. How can you handle multiple exceptions in Python?**\n",
        "  - Use multiple except blocks or a tuple of exceptions in one except.\n",
        "\n",
        "\n",
        "### **8. What is the purpose of the with statement when handling files in Python?**\n",
        " - The with statement automatically closes files after use.\n",
        "\n",
        "\n",
        "### **9. What is the difference between multithreading and multiprocessing?**\n",
        "  - Multithreading shares memory (good for I/O tasks)\n",
        "  - Multiprocessing uses separate memory (good for CPU tasks).\n",
        "\n",
        "\n",
        "### **10. What are the advantages of using logging in a program?**\n",
        " - Logging helps in debugging, monitoring, and tracking application issues without halting the program.\n",
        "\n",
        "\n",
        "### **11. What is memory management in Python?**\n",
        " - Python automatically manages memory using reference counting and garbage collection.\n",
        "\n",
        "\n",
        "### **12. What are the basic steps involved in exception handling in Python?**\n",
        " - Wrap code in try, catch errors in except, use finally for cleanup, and optionally else for success logic.\n",
        " - try → except → else → finally\n",
        "\n",
        "\n",
        "### **13. Why is memory management important in python?**\n",
        " - Proper memory management avoids memory leaks, improves performance, and ensures efficient use of resources.\n",
        "\n",
        "\n",
        "### **14. What is the role of try and except in exception handling?**\n",
        " - try encloses risky code\n",
        " - except handles exceptions gracefully.\n",
        "\n",
        "\n",
        "### **15. How does Python's garbage collection system work?**\n",
        " - Python uses reference counting and a cyclic garbage collector to free unused memory.\n",
        "\n",
        "\n",
        "### **16. What is the purpose of the else block in exception handling?**\n",
        " - else runs if no exception occurs in the try block.\n",
        "\n",
        "\n",
        "### **17. What are the common logging levels in Python?**\n",
        " - Levels include: DEBUG, INFO, WARNING, ERROR, CRITICAL.\n",
        "\n",
        "\n",
        "### **18. Difference between os.fork() and multiprocessing?**\n",
        " - os.fork() is Unix-only and low-level - Multiprocessing is cross-platform and high-level.\n",
        "\n",
        "\n",
        "### **19. What is the importance of closing a file in Python?**\n",
        " - Closing a file frees system resources and ensures data is written properly.\n",
        "\n",
        "\n",
        "### **20. What is the difference between file.read() and file.readline() in Python?**\n",
        " - read() reads the entire file\n",
        " - readline() reads one line at a time.\n",
        "\n",
        "\n",
        "### **21. What is the logging module in Python used for?**\n",
        " - The logging module provides a flexible way to track events in applications.\n",
        "\n",
        "\n",
        "### **22. What is the os module in Python used for in file handling?**\n",
        " - The os module helps with file system operations like creating, renaming, and deleting files/directories.\n",
        "\n",
        "\n",
        "### **23. What are the challenges associated with memory management in Python?**\n",
        " - Circular references, memory leaks, and managing large data structures can be tricky in Python.\n",
        "\n",
        "\n",
        "### **24. How do you raise an exception manually in Python?**\n",
        " - Use raise to trigger a custom or predefined exception.\n",
        "\n",
        "\n",
        "### **25. Why is it important to use multithreading in certain applications?**\n",
        " - Multithreading improves responsiveness and performance in I/O-bound applications like web servers or GUIs.\n",
        "\n",
        "\n",
        "\n",
        "\n",
        "\n",
        "\n"
      ],
      "metadata": {
        "id": "DU7NpVXkAKlc"
      }
    },
    {
      "cell_type": "markdown",
      "source": [
        "# **PRACTICAL QUESTIONS**"
      ],
      "metadata": {
        "id": "_Iei63QyLiUu"
      }
    },
    {
      "cell_type": "code",
      "execution_count": 42,
      "metadata": {
        "colab": {
          "base_uri": "https://localhost:8080/"
        },
        "id": "p2iNaRct_rDK",
        "outputId": "e636bf7d-d062-4ea5-8404-8ccd2cb36ef3"
      },
      "outputs": [
        {
          "output_type": "stream",
          "name": "stdout",
          "text": [
            "Successfully wrote my_file.txt\n"
          ]
        }
      ],
      "source": [
        "# 1. How can you open a file for writing in Python and write a string to it?\n",
        "\n",
        "file_path = \"my_file.txt\"\n",
        "content = \"Hello world.\"\n",
        "\n",
        "with open(file_path, \"w\") as f:\n",
        "    f.write(content)\n",
        "\n",
        "print(f\"Successfully wrote {file_path}\")"
      ]
    },
    {
      "cell_type": "code",
      "source": [
        "# 2. Python program to read the contents of a file and print each line\n",
        "\n",
        "with open(file_path, \"r\") as f:\n",
        "    for line in f:\n",
        "        print(line.strip())\n"
      ],
      "metadata": {
        "colab": {
          "base_uri": "https://localhost:8080/"
        },
        "id": "Pyo2o4wfM9cw",
        "outputId": "f47c3ffe-3500-48b7-883b-22379e011a06"
      },
      "execution_count": 43,
      "outputs": [
        {
          "output_type": "stream",
          "name": "stdout",
          "text": [
            "Hello world.\n"
          ]
        }
      ]
    },
    {
      "cell_type": "code",
      "source": [
        "# 3. Handle a case where the file doesn't exist while reading\n",
        "try:\n",
        "    with open(\"non_existent_file.txt\", \"r\") as f:\n",
        "        content = f.read()\n",
        "except FileNotFoundError:\n",
        "    print(\"File not found.\")\n"
      ],
      "metadata": {
        "colab": {
          "base_uri": "https://localhost:8080/"
        },
        "id": "2UDMlx06Ol0z",
        "outputId": "f69bd3ef-66d0-4ad6-ffbe-c48f5523ef32"
      },
      "execution_count": 44,
      "outputs": [
        {
          "output_type": "stream",
          "name": "stdout",
          "text": [
            "File not found.\n"
          ]
        }
      ]
    },
    {
      "cell_type": "code",
      "source": [
        "# 4. Read from one file and write to another\n",
        "with open(file_path, \"r\") as f:\n",
        "    content = f.read()\n",
        "\n",
        "with open(\"new_file.txt\", \"w\") as f:\n",
        "    f.write(content)\n",
        "\n",
        "print(\"Successfully copied file.\")"
      ],
      "metadata": {
        "colab": {
          "base_uri": "https://localhost:8080/"
        },
        "id": "KlHPB6lEOxDA",
        "outputId": "de253e2b-bdbd-4702-c2e2-38a3cda777aa"
      },
      "execution_count": 45,
      "outputs": [
        {
          "output_type": "stream",
          "name": "stdout",
          "text": [
            "Successfully copied file.\n"
          ]
        }
      ]
    },
    {
      "cell_type": "code",
      "source": [
        "# 5. Catch and handle division by zero\n",
        "try:\n",
        "    result = 10 / 0\n",
        "except ZeroDivisionError:\n",
        "    print(\"Cannot divide by zero.\")"
      ],
      "metadata": {
        "colab": {
          "base_uri": "https://localhost:8080/"
        },
        "id": "0xozC7U1Ow_g",
        "outputId": "0fb1f8d1-63a4-4321-f409-87ce63e0c6a6"
      },
      "execution_count": 46,
      "outputs": [
        {
          "output_type": "stream",
          "name": "stdout",
          "text": [
            "Cannot divide by zero.\n"
          ]
        }
      ]
    },
    {
      "cell_type": "code",
      "source": [
        "# 6. Log division by zero error to a log file\n",
        "import logging\n",
        "\n",
        "try:\n",
        "    result = 10 / 0\n",
        "except ZeroDivisionError:\n",
        "    logging.error(\"Division by zero error occurred.\")"
      ],
      "metadata": {
        "colab": {
          "base_uri": "https://localhost:8080/"
        },
        "id": "V9geL0qcOw8p",
        "outputId": "867b79a6-4cad-4ca0-f4c4-7198560ad7eb"
      },
      "execution_count": 47,
      "outputs": [
        {
          "output_type": "stream",
          "name": "stderr",
          "text": [
            "ERROR:root:Division by zero error occurred.\n"
          ]
        }
      ]
    },
    {
      "cell_type": "code",
      "source": [
        "# 7. Log INFO, WARNING, and ERROR levels\n",
        "\n",
        "logging.basicConfig(level=logging.INFO)\n",
        "logging.info(\"This is an info message.\")\n",
        "\n",
        "logging.warning(\"This is a warning message.\")\n",
        "\n",
        "logging.error(\"This is an error message.\")"
      ],
      "metadata": {
        "colab": {
          "base_uri": "https://localhost:8080/"
        },
        "id": "IVjTNmdkOw59",
        "outputId": "e6193645-e890-4c7b-8531-8eeb8a3661b9"
      },
      "execution_count": 48,
      "outputs": [
        {
          "output_type": "stream",
          "name": "stderr",
          "text": [
            "WARNING:root:This is a warning message.\n",
            "ERROR:root:This is an error message.\n"
          ]
        }
      ]
    },
    {
      "cell_type": "code",
      "source": [
        "# 8. Handle file opening error using exception handling\n",
        "try:\n",
        "    with open(\"non_existent_file.txt\", \"r\") as f:\n",
        "        content = f.read()\n",
        "except FileNotFoundError:\n",
        "    print(\"File not found.\")"
      ],
      "metadata": {
        "colab": {
          "base_uri": "https://localhost:8080/"
        },
        "id": "s00ejJzzOw28",
        "outputId": "3a4f5b5c-d3aa-4030-d2d8-e6ab3556bb3e"
      },
      "execution_count": 49,
      "outputs": [
        {
          "output_type": "stream",
          "name": "stdout",
          "text": [
            "File not found.\n"
          ]
        }
      ]
    },
    {
      "cell_type": "code",
      "source": [
        "# 9. Read file line by line and store in a list\n",
        "with open(file_path, \"r\") as f:\n",
        "    lines = f.readlines()\n",
        "    print(lines)"
      ],
      "metadata": {
        "colab": {
          "base_uri": "https://localhost:8080/"
        },
        "id": "d9kmRTRwOwz-",
        "outputId": "3056850a-47fe-424e-a8ea-994a65097bc7"
      },
      "execution_count": 50,
      "outputs": [
        {
          "output_type": "stream",
          "name": "stdout",
          "text": [
            "['Hello world.']\n"
          ]
        }
      ]
    },
    {
      "cell_type": "code",
      "source": [
        "# 10. Append data to an existing file\n",
        "with open(file_path, \"a\") as f:\n",
        "    f.write(\"\\nAppended line.\")\n"
      ],
      "metadata": {
        "id": "IwOpaKnkOwxM"
      },
      "execution_count": 51,
      "outputs": []
    },
    {
      "cell_type": "code",
      "source": [
        "# 11. Handle KeyError using try-except\n",
        "my_dict = {\"x\": 10}\n",
        "try:\n",
        "    print(my_dict[\"y\"])\n",
        "except KeyError:\n",
        "    print(\"Key does not exist.\")"
      ],
      "metadata": {
        "colab": {
          "base_uri": "https://localhost:8080/"
        },
        "id": "hSTlQBPBOwuY",
        "outputId": "4025ac5e-3368-4518-e077-2da5e55638fb"
      },
      "execution_count": 52,
      "outputs": [
        {
          "output_type": "stream",
          "name": "stdout",
          "text": [
            "Key does not exist.\n"
          ]
        }
      ]
    },
    {
      "cell_type": "code",
      "source": [
        "# 12. Use multiple except blocks for different exceptions\n",
        "try:\n",
        "    result = 10 / 0\n",
        "except ZeroDivisionError:\n",
        "    print(\"Cannot divide by zero.\")\n",
        "except TypeError:\n",
        "    print(\"Invalid operation.\")\n"
      ],
      "metadata": {
        "colab": {
          "base_uri": "https://localhost:8080/"
        },
        "id": "ZEbZ38fyOwrj",
        "outputId": "2efcabbe-8833-4819-e48c-903ee8b415dc"
      },
      "execution_count": 53,
      "outputs": [
        {
          "output_type": "stream",
          "name": "stdout",
          "text": [
            "Cannot divide by zero.\n"
          ]
        }
      ]
    },
    {
      "cell_type": "code",
      "source": [
        "# 13. Check if a file exists before reading\n",
        "import os\n",
        "\n",
        "if os.path.exists(file_path):\n",
        "    with open(file_path, \"r\") as f:\n",
        "        content = f.read()\n",
        "        print(content)\n",
        "else:\n",
        "    print(\"File does not exist.\")\n"
      ],
      "metadata": {
        "colab": {
          "base_uri": "https://localhost:8080/"
        },
        "id": "PPXeN4UROwou",
        "outputId": "f7710aea-dbc8-4bea-b269-36b9a54d37d2"
      },
      "execution_count": 54,
      "outputs": [
        {
          "output_type": "stream",
          "name": "stdout",
          "text": [
            "Hello world.\n",
            "Appended line.\n"
          ]
        }
      ]
    },
    {
      "cell_type": "code",
      "source": [
        "# 14. Log info and error using logging module\n",
        "import logging\n",
        "\n",
        "logging.basicConfig(level=logging.INFO)\n",
        "logging.info(\"This is an info message.\")\n",
        "\n",
        "logging.error(\"This is an error message.\")"
      ],
      "metadata": {
        "colab": {
          "base_uri": "https://localhost:8080/"
        },
        "id": "aQp42K9VOwl3",
        "outputId": "bef81ff6-9f72-4afe-eb15-999c2695e9fd"
      },
      "execution_count": 55,
      "outputs": [
        {
          "output_type": "stream",
          "name": "stderr",
          "text": [
            "ERROR:root:This is an error message.\n"
          ]
        }
      ]
    },
    {
      "cell_type": "code",
      "source": [
        "# 15. Print file content and handle empty file\n",
        "try:\n",
        "    with open(file_path, \"r\") as f:\n",
        "        content = f.read()\n",
        "        if content:\n",
        "            print(content)\n",
        "        else:\n",
        "            print(\"File is empty.\")\n",
        "except FileNotFoundError:\n",
        "    print(\"File not found.\")\n"
      ],
      "metadata": {
        "colab": {
          "base_uri": "https://localhost:8080/"
        },
        "id": "cQ39qQQ8Owi1",
        "outputId": "cb6bb226-f373-4e08-c0ad-e7745134ee49"
      },
      "execution_count": 56,
      "outputs": [
        {
          "output_type": "stream",
          "name": "stdout",
          "text": [
            "Hello world.\n",
            "Appended line.\n"
          ]
        }
      ]
    },
    {
      "cell_type": "code",
      "source": [
        "# 16. Use memory profiling in Python\n",
        "!pip install -q memory-profiler\n",
        "from memory_profiler import profile\n",
        "\n",
        "@profile\n",
        "def compute():\n",
        "    a = [i for i in range(10)]\n",
        "    return sum(a)\n",
        "\n",
        "compute()"
      ],
      "metadata": {
        "colab": {
          "base_uri": "https://localhost:8080/"
        },
        "id": "psrCKTXfOwgD",
        "outputId": "3dc58caa-6246-4198-9701-29a93fe858e8"
      },
      "execution_count": 75,
      "outputs": [
        {
          "output_type": "stream",
          "name": "stdout",
          "text": [
            "ERROR: Could not find file /tmp/ipython-input-75-389949009.py\n"
          ]
        },
        {
          "output_type": "execute_result",
          "data": {
            "text/plain": [
              "45"
            ]
          },
          "metadata": {},
          "execution_count": 75
        }
      ]
    },
    {
      "cell_type": "code",
      "source": [
        "# 17. Write list of numbers to a file, one per line\n",
        "numbers = [1, 2, 3, 4, 5]\n",
        "\n",
        "with open(\"numbers.txt\", \"w\") as f:\n",
        "    for num in numbers:\n",
        "        f.write(str(num) + \"\\n\")\n",
        "\n"
      ],
      "metadata": {
        "id": "uyM5jnkoPU6W"
      },
      "execution_count": 59,
      "outputs": []
    },
    {
      "cell_type": "code",
      "source": [
        "# 18. Logging with rotation after 1MB\n",
        "import logging\n",
        "from logging.handlers import RotatingFileHandler\n",
        "\n",
        "logging.basicConfig(level=logging.INFO)\n",
        "handler = RotatingFileHandler(\"my_log.log\", maxBytes=1000, backupCount=5)"
      ],
      "metadata": {
        "id": "t9xdbcTIPU3A"
      },
      "execution_count": 60,
      "outputs": []
    },
    {
      "cell_type": "code",
      "source": [
        "# 19. Handle both IndexError and KeyError\n",
        "try:\n",
        "    lst = [1, 2]\n",
        "    d = {\"x\": 10}\n",
        "    print(lst[3])\n",
        "    print(d[\"y\"])\n",
        "except IndexError:\n",
        "    print(\"List index error.\")\n",
        "except KeyError:\n",
        "    print(\"Dict key error.\")\n"
      ],
      "metadata": {
        "colab": {
          "base_uri": "https://localhost:8080/"
        },
        "id": "lV6aZ4lDPf18",
        "outputId": "d5d7d791-9300-4a2e-d1dc-7629885ebc10"
      },
      "execution_count": 62,
      "outputs": [
        {
          "output_type": "stream",
          "name": "stdout",
          "text": [
            "List index error.\n"
          ]
        }
      ]
    },
    {
      "cell_type": "code",
      "source": [
        "# 20. Open and read file using context manager\n",
        "with open(\"my_file.txt\", \"r\") as f:\n",
        "    content = f.read()\n",
        "    print(content)"
      ],
      "metadata": {
        "colab": {
          "base_uri": "https://localhost:8080/"
        },
        "id": "WS7-BRnPPlbT",
        "outputId": "8b97b633-0180-44da-a65f-dca7ab7ef95f"
      },
      "execution_count": 63,
      "outputs": [
        {
          "output_type": "stream",
          "name": "stdout",
          "text": [
            "Hello world.\n",
            "Appended line.\n"
          ]
        }
      ]
    },
    {
      "cell_type": "code",
      "source": [
        "# 21. Count occurrences of a specific word in a file\n",
        "with open(\"my_file.txt\", \"r\") as f:\n",
        "    content = f.read()\n",
        "    word_count = content.count(\"Hello\")\n",
        "    print(word_count)\n"
      ],
      "metadata": {
        "colab": {
          "base_uri": "https://localhost:8080/"
        },
        "id": "QH-NXK2BMQXz",
        "outputId": "167ccf36-49b0-497b-af51-30233e216688"
      },
      "execution_count": 64,
      "outputs": [
        {
          "output_type": "stream",
          "name": "stdout",
          "text": [
            "1\n"
          ]
        }
      ]
    },
    {
      "cell_type": "code",
      "source": [
        "# 22. Check if file is empty before reading\n",
        "with open(\"my_file.txt\", \"r\") as f:\n",
        "    content = f.read()\n",
        "    if content:\n",
        "        print(content)\n",
        "    else:\n",
        "        print(\"File is empty.\")"
      ],
      "metadata": {
        "colab": {
          "base_uri": "https://localhost:8080/"
        },
        "id": "cZXFqK3dMXXe",
        "outputId": "d20354b4-5d16-4a5d-e095-797f6f5c8236"
      },
      "execution_count": 65,
      "outputs": [
        {
          "output_type": "stream",
          "name": "stdout",
          "text": [
            "Hello world.\n",
            "Appended line.\n"
          ]
        }
      ]
    },
    {
      "cell_type": "code",
      "source": [
        "# 23. Write to a log file when file error occurs\n",
        "try:\n",
        "    with open(\"non_existent_file.txt\", \"r\") as f:\n",
        "        content = f.read()\n",
        "except FileNotFoundError:\n",
        "    logging.error(\"File not found.\")"
      ],
      "metadata": {
        "colab": {
          "base_uri": "https://localhost:8080/"
        },
        "id": "E6lLhjVYOCHL",
        "outputId": "b4384947-f9f8-4b5a-d73b-1334af6b8de6"
      },
      "execution_count": 68,
      "outputs": [
        {
          "output_type": "stream",
          "name": "stderr",
          "text": [
            "ERROR:root:File not found.\n"
          ]
        }
      ]
    }
  ]
}